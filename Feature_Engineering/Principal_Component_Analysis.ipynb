{
 "cells": [
  {
   "cell_type": "markdown",
   "metadata": {},
   "source": [
    "#  PCA - PRINCIPAL COMPONENT ANALYSIS\n",
    "\n",
    "This notebook is intended to act as a **high level overview** of PCA - Principal Component Analysis.\n",
    "\n",
    "Principle Component Analysis is a Linear Algerbra technique that is used for 2 purposes:\n",
    "    \n",
    "1. ***Feature Reduction:***\n",
    "\n",
    "    Reduce the feature space while retaining the information that will be relavent for modeling\n",
    "    - By reducing the dimensionality (features) of our data  we have fewer variables / relationships\n",
    "      to consider, thereby reducing our likelihood of overfitting a model.\n",
    "    - This may create performance gains computationally by allowing us to deal with fewer dimensions in models that  preprocess data with PCA.\n",
    "\n",
    "\n",
    "2. ***Feature Extraction:***\n",
    "\n",
    "    New Principal components are generated\n",
    "    - These components retain most of the relevent information (variance) from the variables that make them up.\n",
    "    - Due to the orthoginal nature of PCA, PCA features are largely independant of one another which again helps with things like overfitting and colinearity.\n"
   ]
  },
  {
   "cell_type": "markdown",
   "metadata": {},
   "source": [
    "## PCA BREAKDOWN\n",
    "\n",
    "Essentially what PCA does is derive a new set of dimensions from your dataset in such a way that all dimensions are orthogonal (math talk for being perpendicular to one another on a scatterplot). It then ranks the pricipal componets according to the varience of data along them - more varience (spread) = more important.\n",
    "\n",
    "To get a more intuitive understanding and visualization of this process you can follow these links:\n",
    "\n",
    "- PCA Visuals & Breakdown\n",
    "    - [PCA, Sentosa Applet](http://setosa.io/ev/principal-component-analysis/)\n",
    "    - [The Math Behind PCA](https://towardsdatascience.com/the-mathematics-behind-principal-component-analysis-fff2d7f4b643)\n",
    "    - [PCA in 5 Minutes](https://youtu.be/HMOI_lkzW08)\n",
    "    \n",
    "\n"
   ]
  },
  {
   "cell_type": "markdown",
   "metadata": {},
   "source": [
    "## WHEN & HOW TO USE\n",
    "\n",
    "1. ***WHEN PCA IS USEFUL***\n",
    "\n",
    "    1. You want to reduce the number of features in your data, and you are not sure which are the best pull out.\n",
    "    2. You want to make sure that your features are independent of one another.\n",
    "    3. You are comfortable with the fact that your new features may be less interpretable.\n",
    "    \n",
    "\n",
    "2. ***HOW TO USE IT***\n",
    "\n",
    "    Below I'll be demonstrating a few ways that we can use PCA pythonically and very briefly showing some of the underlying mathematics; this is intended as a quick and dirty demo so as to give you a greater general idea of ***why*** PCA works the way it does.\n",
    "    \n",
    "    \n",
    "Data used in this example: [Iris Data](https://archive.ics.uci.edu/ml/datasets/iris)"
   ]
  },
  {
   "cell_type": "code",
   "execution_count": 34,
   "metadata": {},
   "outputs": [],
   "source": [
    "#Let's go ahead and import some standard Data Science Libraries\n",
    "\n",
    "import numpy as np # A wide varierty of mathmatical and statistical functions\n",
    "import pandas as pd # For Dataframes and data manipulation\n",
    "import sklearn as sk # To be able to apply some ML based techniques on our data"
   ]
  },
  {
   "cell_type": "code",
   "execution_count": 156,
   "metadata": {},
   "outputs": [
    {
     "name": "stdout",
     "output_type": "stream",
     "text": [
      "   Sepal Length - cm  Sepal Width - cm  Petal Length - cm  Petal Width - cm  \\\n",
      "\n",
      "0                5.1               3.5                1.4               0.2   \n",
      "\n",
      "1                4.9               3.0                1.4               0.2   \n",
      "\n",
      "2                4.7               3.2                1.3               0.2   \n",
      "\n",
      "3                4.6               3.1                1.5               0.2   \n",
      "\n",
      "4                5.0               3.6                1.4               0.2   \n",
      "\n",
      "\n",
      "\n",
      "         Class  \n",
      "\n",
      "0  Iris-setosa  \n",
      "\n",
      "1  Iris-setosa  \n",
      "\n",
      "2  Iris-setosa  \n",
      "\n",
      "3  Iris-setosa  \n",
      "\n",
      "4  Iris-setosa  \n",
      "\n",
      "<class 'pandas.core.frame.DataFrame'>\n",
      "\n",
      "RangeIndex: 150 entries, 0 to 149\n",
      "\n",
      "Data columns (total 5 columns):\n",
      "\n",
      "Sepal Length - cm    150 non-null float64\n",
      "\n",
      "Sepal Width - cm     150 non-null float64\n",
      "\n",
      "Petal Length - cm    150 non-null float64\n",
      "\n",
      "Petal Width - cm     150 non-null float64\n",
      "\n",
      "Class                150 non-null object\n",
      "\n",
      "dtypes: float64(4), object(1)\n",
      "\n",
      "memory usage: 5.9+ KB\n",
      "\n",
      "None\n",
      "\n",
      "       Sepal Length - cm  Sepal Width - cm  Petal Length - cm  \\\n",
      "\n",
      "count         150.000000        150.000000         150.000000   \n",
      "\n",
      "mean            5.843333          3.054000           3.758667   \n",
      "\n",
      "std             0.828066          0.433594           1.764420   \n",
      "\n",
      "min             4.300000          2.000000           1.000000   \n",
      "\n",
      "25%             5.100000          2.800000           1.600000   \n",
      "\n",
      "50%             5.800000          3.000000           4.350000   \n",
      "\n",
      "75%             6.400000          3.300000           5.100000   \n",
      "\n",
      "max             7.900000          4.400000           6.900000   \n",
      "\n",
      "\n",
      "\n",
      "       Petal Width - cm  \n",
      "\n",
      "count        150.000000  \n",
      "\n",
      "mean           1.198667  \n",
      "\n",
      "std            0.763161  \n",
      "\n",
      "min            0.100000  \n",
      "\n",
      "25%            0.300000  \n",
      "\n",
      "50%            1.300000  \n",
      "\n",
      "75%            1.800000  \n",
      "\n",
      "max            2.500000  \n"
     ]
    }
   ],
   "source": [
    "#Now that we have our libraries we can pull down a basic data set to experiment with\n",
    "\n",
    "#UCI link to MPG Data - a useful toy dataset\n",
    "data = 'https://archive.ics.uci.edu/ml/machine-learning-databases/iris/iris.data'\n",
    "\n",
    "#Column names for data, which the link lacks\n",
    "col_names = ['Sepal Length - cm', 'Sepal Width - cm', 'Petal Length - cm', 'Petal Width - cm', 'Class']\n",
    "\n",
    "#Reading the data into a pandas dataframe\n",
    "df = pd.read_csv(data,sep=',',names=col_names) \n",
    "\n",
    "#check the first 5 observations of data, get the basic meta data, and the descriptive stats\n",
    "print(df.head())\n",
    "print(df.info(verbose=True)) \n",
    "print(df.describe())"
   ]
  },
  {
   "cell_type": "markdown",
   "metadata": {},
   "source": [
    "![Oh, Wow](https://i.kym-cdn.com/entries/icons/original/000/023/464/wowowne.jpg)\n",
    "\n",
    "Cool, now our data is nearly prepped we can go ahead standardize it and begin to transform it with sklearn's PCA functions!\n",
    "\n",
    "Since PCA involves linear transformations with the **covariance** between features, the interpretability of the data and  \n",
    "vizualizations can be dramatically affected by the different scales of each feature.\n",
    "\n",
    "That is why it is wise before conducting PCA that you standardize your feature space (dataframe) for more :\n",
    "\n",
    "[Feature Scaling](https://en.wikipedia.org/wiki/Feature_scaling)\n",
    "\n",
    "[Sklearn: Importance of Feature Scaling](https://scikit-learn.org/stable/auto_examples/preprocessing/plot_scaling_importance.html)\n",
    "\n",
    "\n",
    "*Reminder:* **Covariance** normalized is the **Correlation Coefficient** ~ keep these terms in your mind it will help you learn in the long run!\n"
   ]
  },
  {
   "cell_type": "code",
   "execution_count": 157,
   "metadata": {},
   "outputs": [],
   "source": [
    "from sklearn.decomposition import PCA\n",
    "from sklearn.preprocessing import StandardScaler\n",
    "\n",
    "#Now lets go ahead and seperate our target and features\n",
    "\n",
    "target = df.loc[:,['Class']]\n",
    "features = df.loc[:,['Sepal Length - cm', 'Sepal Width - cm', 'Petal Length - cm', 'Petal Width - cm']]\n",
    "\n",
    "# convert these over to arrays to make it easier to deal with in sklearn\n",
    "\n",
    "y = target.values\n",
    "x = features.values\n",
    "\n",
    "#Standardize our features\n",
    "x = StandardScaler().fit_transform(x)\n",
    "\n",
    "# Uncomment out the below lines to see how the features are transformed by being standardized = ctrl + /\n",
    "# from IPython.display import display\n",
    "# display('Before Standarization',features.head(5))\n",
    "# display('After Standardization',pd.DataFrame(x,columns=features.columns).head(5))\n",
    "\n"
   ]
  },
  {
   "cell_type": "code",
   "execution_count": 161,
   "metadata": {},
   "outputs": [
    {
     "data": {
      "text/plain": [
       "array([0.72770452, 0.23030523])"
      ]
     },
     "execution_count": 161,
     "metadata": {},
     "output_type": "execute_result"
    }
   ],
   "source": [
    "# Now that we have our data standardized we can go ahead and use PCA to reduce the number of dimensions of our dataset\n",
    "\n",
    "pca = PCA(n_components=2) # our PCA model ~ we want to project our 4 dimensional input down to 2 dimensions\n",
    "# you can also simply enter a percentile (i.e. \".95\") and the pca model will continue project your dimensions down to\n",
    "# till it creates enough principal components that those components cumulativly explain the variance of your data\n",
    "\n",
    "principal_components = pca.fit(x) #using the PCA model to transform our feature space\n",
    "\n",
    "# check out the explained variance of each component\n",
    "principal_components.explained_variance_ratio_ "
   ]
  },
  {
   "cell_type": "code",
   "execution_count": 166,
   "metadata": {},
   "outputs": [],
   "source": [
    "# We now see that after the dimensionality reduction we are going to be left with 2 components, 1 of which\n",
    "# explains about 72% of the variance in the data set, the other about 23%\n",
    "# lets go ahead and transform our original data set using the PCA model and visual what is happening\n",
    "\n",
    "principal_components = pca.fit_transform(x)\n",
    "\n",
    "# Pop that bad boy into a dataframe\n",
    "principal_df = pd.DataFrame(principal_components, columns=['PC1','PC2']) # our new columns are the principal components\n",
    "\n",
    "# Lets merge it back with our target so we can visualize what is going on\n",
    "principal_df['Class']=target"
   ]
  },
  {
   "cell_type": "code",
   "execution_count": 227,
   "metadata": {},
   "outputs": [
    {
     "data": {
      "text/plain": [
       "<matplotlib.axes._subplots.AxesSubplot at 0x20ed81b6ac8>"
      ]
     },
     "execution_count": 227,
     "metadata": {},
     "output_type": "execute_result"
    },
    {
     "data": {
      "image/png": "[encoded data removed]",
      "text/plain": [
       "<Figure size 800x640 with 1 Axes>"
      ]
     },
     "metadata": {},
     "output_type": "display_data"
    }
   ],
   "source": [
    "% matplotlib inline\n",
    "import matplotlib.pyplot as plt\n",
    "import seaborn as sns\n",
    "\n",
    "#this would be like 48 lines in matplotlib - SNS makes things much simpler\n",
    "fig=plt.figure(figsize=(10, 8), dpi= 80, facecolor='w', edgecolor='k')\n",
    "sns.scatterplot(x=principal_df['PC1'],y=principal_df['PC2'],hue=principal_df['Class'])\n",
    "\n"
   ]
  },
  {
   "cell_type": "markdown",
   "metadata": {},
   "source": [
    "### INTERPRETING THE PLOT\n",
    "\n",
    "So here we can actually see our 4 dimension data projected down to two new dimnesions that largely explain the variance within our feature space.\n",
    "\n",
    "After the algorithm completes its calculations, each vector returned by the algorithm is rank sorted by the amount of variance it explains in the dataset.\n",
    "\n",
    "Put another way, our first principal component axis explains more variance than points along our 2nd principal component axis. So points traveling along the x-axis show more difference than points traveling along the y-axis.\n",
    "\n",
    "After colorizing the observations (points in the scatter) we can see that differnces along the first PC are an excellent indicator for what type of flower is in that given\n",
    "\n",
    "observation. If we were to take this a step further and now utilize some sort of classifier on this new PCA output we could make predictions on what type of flower a given \n",
    "\n",
    "observation is based upon its value. \n",
    "\n",
    "***High Value Cat Meme - A gift for reading my short tutorial***\n",
    "\n",
    "![Algebra Cat](http://www.quickmeme.com/img/e3/e38bdd13bc8dd19873da87e971cb6a277b721355be0026dda4379d0bb3446c28.jpg)"
   ]
  }
 ],
 "metadata": {
  "kernelspec": {
   "display_name": "Python 3",
   "language": "python",
   "name": "python3"
  },
  "language_info": {
   "codemirror_mode": {
    "name": "ipython",
    "version": 3
   },
   "file_extension": ".py",
   "mimetype": "text/x-python",
   "name": "python",
   "nbconvert_exporter": "python",
   "pygments_lexer": "ipython3",
   "version": "3.6.8"
  }
 },
 "nbformat": 4,
 "nbformat_minor": 2
}
