{
 "cells": [
  {
   "cell_type": "markdown",
   "metadata": {},
   "source": [
    "# Hypothesis Testing Continued!!!\n",
    "\n",
    "![Hypothesis Meme](https://i.redd.it/4v4nmp2v52n11.jpg)\n",
    "\n",
    "\n",
    "## Things We Covered\n",
    "\n",
    "- Hypothesis testing  != Statistical Methods (T Test, Chi Squared, Shapiro-Wilk Test, Pearson Correlation...)\n",
    "\n",
    "- Hypothesis testing does not provided definative, absolute awnsers \n",
    "\n",
    "- Hypothesis testing provides a methodology to acquire confidence about assumptions and allows analysts to make inferences about some data based upon a probabilistic confidence. \n",
    "\n",
    "![Hypothesis Test Viz](https://www.researchgate.net/profile/Le_Nhan15/publication/331206334/figure/fig3/AS:747593277652994@1555251535982/Statistical-hypothesis-testing-test-d-allowing-to-guarantee-a-prefixed-false-alarm-rate-l.png)\n",
    "\n"
   ]
  },
  {
   "cell_type": "code",
   "execution_count": 74,
   "metadata": {},
   "outputs": [],
   "source": [
    "import pandas as pd\n",
    "import numpy as np\n",
    "import matplotlib.pyplot as plt\n",
    "from scipy import stats"
   ]
  },
  {
   "cell_type": "code",
   "execution_count": 7,
   "metadata": {},
   "outputs": [],
   "source": [
    "# lets pull in some data to do some analysis and hypothesis testing against\n",
    "# this dataset is demographic information on a polled group of US adults\n",
    "\n",
    "adults = pd.read_csv(\"https://raw.githubusercontent.com/Jaunson/Scripts/master/adult.csv\",\n",
    "                     names=['Unnamed: 0','age','workclass', 'fnlwgt', 'education',\n",
    "                            'education_num', 'marital_status', 'occupation', 'relationship', 'race',\n",
    "                            'sex', 'capital_gain', 'capital_loss', 'hours_per_week','native_country', 'transport'],\n",
    "                    skiprows=1)\n",
    "\n",
    "# Some fixing for this data to strip out unneed spaces, always fix your data first it makes it analysis smoother\n",
    "adults['education'] = adults.education.str.strip()\n",
    "adults['workclass'] = adults.workclass.str.strip()\n",
    "adults['marital_status'] = adults.marital_status.str.strip()\n",
    "adults['occupation'] = adults.occupation.str.strip()\n",
    "adults['relationship'] = adults.relationship.str.strip()\n",
    "adults['race'] = adults.race.str.strip()\n",
    "adults['sex'] = adults.sex.str.strip()\n",
    "adults['native_country'] = adults.native_country.str.strip()\n",
    "adults['transport'] = adults.transport.str.strip()\n",
    "adults = adults.drop(\"Unnamed: 0\", axis=1)\n",
    "adults['native'] = ['Native' if x==\"United-States\" else 'Non-Native' for x in adults['native_country']]"
   ]
  },
  {
   "cell_type": "code",
   "execution_count": 29,
   "metadata": {},
   "outputs": [],
   "source": [
    "\n",
    "\n",
    "us_male_education = adults.query('native==\"Native\" & sex==\"Male\"')['education_num']\n",
    "\n",
    "#Taking a random sampling from our us_male_education array so its the same size as the female sample\n",
    "\n",
    "us_male_education = pd.Series(np.random.choice(us_male_education, 1089, replace=False), name='male_education_num')\n",
    "\n",
    "f_female_education = adults.query('native==\"Non-Native\" & sex==\"Female\"')['education_num']"
   ]
  },
  {
   "cell_type": "code",
   "execution_count": 82,
   "metadata": {},
   "outputs": [],
   "source": [
    "education = pd.DataFrame({'male_education_level':us_male_education,'female_education_level':f_female_education})\n",
    "\n"
   ]
  },
  {
   "cell_type": "code",
   "execution_count": 80,
   "metadata": {},
   "outputs": [],
   "source": [
    "# get our arrays moving so we can start doing the calcs required for a t-test\n",
    "male = np.array(education['male_education_level'].dropna())\n",
    "female = np.array(education['male_education_level'].dropna())"
   ]
  },
  {
   "cell_type": "code",
   "execution_count": 81,
   "metadata": {},
   "outputs": [],
   "source": [
    "#For unbiased max likelihood estimate we have to divide the var by N-1, and therefore the parameter ddof = 1\n",
    "var_male = male.var(ddof=1)\n",
    "var_female = female.var(ddof=1)"
   ]
  },
  {
   "cell_type": "code",
   "execution_count": 77,
   "metadata": {},
   "outputs": [],
   "source": [
    "#std deviation\n",
    "s= np.sqrt((var_male+var_female)/2)"
   ]
  },
  {
   "cell_type": "code",
   "execution_count": 78,
   "metadata": {},
   "outputs": [],
   "source": [
    "# Calculate the t-statistics\n",
    "t = (male.mean() - female.mean())/(s*np.sqrt(2/len(male)))"
   ]
  },
  {
   "cell_type": "code",
   "execution_count": 79,
   "metadata": {},
   "outputs": [
    {
     "name": "stdout",
     "output_type": "stream",
     "text": [
      "t = 0.0\n",
      "p = 1.0\n",
      "t = 0.0\n",
      "p = 1.0\n"
     ]
    }
   ],
   "source": [
    "## Compare with the critical t-value\n",
    "#Degrees of freedom\n",
    "df = 2*len(male) - 2\n",
    "\n",
    "#p-value after comparison with the t \n",
    "p = 1 - stats.t.cdf(t,df=df)\n",
    "\n",
    "\n",
    "print(\"t = \" + str(t))\n",
    "print(\"p = \" + str(2*p))\n"
   ]
  },
  {
   "cell_type": "code",
   "execution_count": 83,
   "metadata": {},
   "outputs": [
    {
     "name": "stdout",
     "output_type": "stream",
     "text": [
      "t = 0.0\n",
      "p = 1.0\n"
     ]
    },
    {
     "data": {
      "image/png": "[encoded data removed]",
      "text/plain": [
       "<Figure size 432x288 with 1 Axes>"
      ]
     },
     "metadata": {
      "needs_background": "light"
     },
     "output_type": "display_data"
    }
   ],
   "source": [
    "plot = education.plot.kde(bw_method=1)\n",
    "### You can see that after comparing the t statistic with the critical t value (computed internally) we get a good p value of 0.0005 and thus we reject the null hypothesis and thus it proves that the mean of the two distributions are different and statistically significant.\n",
    "\n",
    "\n",
    "## Cross Checking with the internal scipy function\n",
    "t2, p2 = stats.ttest_ind(male,female)\n",
    "print(\"t = \" + str(t2))\n",
    "print(\"p = \" + str(p2))"
   ]
  },
  {
   "cell_type": "markdown",
   "metadata": {},
   "source": [
    "We fail to reject the null hypothesis, meaning we cannot say with statistical certainty that there is a difference between mean values of both populations"
   ]
  }
 ],
 "metadata": {
  "kernelspec": {
   "display_name": "Python 3",
   "language": "python",
   "name": "python3"
  },
  "language_info": {
   "codemirror_mode": {
    "name": "ipython",
    "version": 3
   },
   "file_extension": ".py",
   "mimetype": "text/x-python",
   "name": "python",
   "nbconvert_exporter": "python",
   "pygments_lexer": "ipython3",
   "version": "3.7.6"
  }
 },
 "nbformat": 4,
 "nbformat_minor": 4
}
