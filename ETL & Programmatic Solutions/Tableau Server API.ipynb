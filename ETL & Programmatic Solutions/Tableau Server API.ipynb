{
 "cells": [
  {
   "cell_type": "markdown",
   "metadata": {},
   "source": [
    "# Tableau Server Client \n",
    "\n",
    "TSC is library that provides a pythonic wrapper for interacting with your Tableau Server. It provides useful methods for pulling down data and interacting with your Tableau Server Programmatically.\n",
    "\n",
    "A few use cases:\n",
    "- Pull down data on your users, projects, and workbooks, and views\n",
    "- Subscribe users to views and workbooks \n",
    "- Download and update content such as workbooks\n",
    "\n",
    "The rest of this notebook will be dedicated to showing you how to authenicate to the tableau server and examples of how to interact with various server objects.\n",
    "\n",
    "[Tableau Server Client (Python)](https://tableau.github.io/server-client-python/docs/api-ref#users)  link to the documentation on TSC libary"
   ]
  },
  {
   "cell_type": "markdown",
   "metadata": {},
   "source": [
    "# Authenticating to the Tableau Server\n",
    "### Pulling Data & Building Dataframes"
   ]
  },
  {
   "cell_type": "code",
   "execution_count": 7,
   "metadata": {},
   "outputs": [],
   "source": [
    "import tableauserverclient as TSC\n",
    "import pandas as pd\n",
    "\n",
    "# Create an Authentication object, probably best to use a site or server admin account\n",
    "tableau_auth = TSC.TableauAuth(<username>, <password>, site = <site name>)\n",
    "\n",
    "# Create a Server object to that you will authenticate and call methods on\n",
    "server = TSC.Server(<tableau server path>) #ex. https://tableau.company_name.com\n",
    "\n",
    "# Authenticate to the server and pull down dataframes of users, workbooks, & subscriptions\n",
    "with server.auth.sign_in(tableau_auth):\n",
    "    all_users = list(TSC.Pager(server.users)) # use list & pager to pull down all users\n",
    "    users = pd.DataFrame(data={'name':[user.name for user in all_users],\n",
    "                               'user_id':[user.id for user in all_users],\n",
    "                               'email':[user.email for user in all_users],\n",
    "                               'site_role':[user.site_role for user in all_users]})\n",
    "    \n",
    "    all_workbooks = list(TSC.Pager(server.workbooks))\n",
    "    workbooks = pd.DataFrame(data={'name':[workbook.name for workbook in all_workbooks],\n",
    "                                   'workbook_id':[workbook.id for workbook in all_workbooks],\n",
    "                                   'owner_id':[workbook.owner_id for workbook in all_workbooks]})\n",
    "    \n",
    "    all_subs = list(TSC.Pager(server.subscriptions))\n",
    "    subscription = pd.DataFrame(data = {'sub_id':[sub.id for sub in all_subs],\n",
    "                                        'subject': [sub.subject for sub in all_subs],\n",
    "                                        'sub_schedule_id': [sub.schedule_id for sub in all_subs],\n",
    "                                        'sub_user_id': [sub.user_id for sub in all_subs],\n",
    "                                        'view/workbook_id': [sub.target.id for sub in all_subs],\n",
    "                                        'target_type': [sub.target.type for sub in all_subs]})"
   ]
  },
  {
   "cell_type": "markdown",
   "metadata": {},
   "source": [
    "## Example of building a subscription\n",
    "This can be used with loops to build a large number of subscriptions or programatically add folks"
   ]
  },
  {
   "cell_type": "code",
   "execution_count": null,
   "metadata": {},
   "outputs": [],
   "source": [
    "# First build a target for the subscription\n",
    "target_view = TSC.Target(<view_id/workbook_id>,<target_type>)\n",
    "\n",
    "with server.auth.sign_in(tableau_auth):\n",
    "    new_sub = TSC.SubscriptionItem(subject=<subject>, \n",
    "                                   schedule_id=<schedule>, \n",
    "                                   user_id=<user_id>, \n",
    "                                   target=target_view)\n",
    "    server.subscriptions.create(new_sub)"
   ]
  }
 ],
 "metadata": {
  "kernelspec": {
   "display_name": "Python 3",
   "language": "python",
   "name": "python3"
  },
  "language_info": {
   "codemirror_mode": {
    "name": "ipython",
    "version": 3
   },
   "file_extension": ".py",
   "mimetype": "text/x-python",
   "name": "python",
   "nbconvert_exporter": "python",
   "pygments_lexer": "ipython3",
   "version": "3.7.3"
  }
 },
 "nbformat": 4,
 "nbformat_minor": 2
}
