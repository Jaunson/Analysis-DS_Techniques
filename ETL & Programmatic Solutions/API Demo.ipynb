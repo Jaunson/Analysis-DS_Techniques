{
 "cells": [
  {
   "cell_type": "markdown",
   "metadata": {},
   "source": [
    "# REST API (Application Programing Interface)\n",
    "\n",
    "### What?\n",
    "\n",
    "#### [Wiki Definition](https://en.wikipedia.org/wiki/Representational_state_transfer)\n",
    "\n",
    "#### My Definition\n",
    "\n",
    "Simply put, an API is a way of utilizing data and or functionality from an application within your code.\n",
    "\n",
    "While API's may differ greatly in terms of the functionality and use-cases they serve, you can largely think of them as a way to:\n",
    "\n",
    "-  Extract Data from a system or application into your code\n",
    "-  Load Data from code to a system or application\n",
    "-  Bring functionality of an application into you code.\n",
    "\n",
    "### How?\n",
    "\n",
    "Most commonly API's are expressed as HTTP endpoints that you can interact with by sending and recieving JSON / XML / HTML payloads. There may be auth layer you have to deal with which typically means embedding some credential / token in your request but that is typically as difficult as it gets when working with an API.\n",
    "\n",
    "For our first example, we will be looking at Kanye.rest - A very basic API that serves up qoutes from Kanye West whenever a **GET** request is made.\n",
    "\n",
    "\n",
    "## Kanye.rest\n",
    "[Kanye as a Service](https://kanye.rest/)"
   ]
  },
  {
   "cell_type": "code",
   "execution_count": 1,
   "metadata": {},
   "outputs": [],
   "source": [
    "import requests\n",
    "import json"
   ]
  },
  {
   "cell_type": "code",
   "execution_count": 2,
   "metadata": {},
   "outputs": [],
   "source": [
    "# Make get request to kanye.rest to be served a random qoute\n",
    "qoute = requests.get(r'https://api.kanye.rest')"
   ]
  },
  {
   "cell_type": "code",
   "execution_count": 3,
   "metadata": {},
   "outputs": [
    {
     "name": "stdout",
     "output_type": "stream",
     "text": [
      "200\n",
      "b'{\"quote\":\"Today is the best day ever and tomorrow\\'s going to be even better\"}'\n",
      "{'quote': \"Today is the best day ever and tomorrow's going to be even better\"}\n"
     ]
    }
   ],
   "source": [
    "# items get attached to a request\n",
    "print(qoute.status_code) # 200 means success!!!\n",
    "print(qoute.content) # the payload sent back from our request\n",
    "\n",
    "# if the payload returned is a json we can convert the byte code\n",
    "# directly to json with the json methods\n",
    "print(qoute.json()) "
   ]
  },
  {
   "cell_type": "code",
   "execution_count": 5,
   "metadata": {},
   "outputs": [
    {
     "name": "stdout",
     "output_type": "stream",
     "text": [
      "{\"quote\":\"Today is the best day ever and tomorrow's going to be even better\"}\n",
      "Today is the best day ever and tomorrow's going to be even better\n"
     ]
    }
   ],
   "source": [
    "# we can even convert that payload to a text string\n",
    "print(qoute.content.decode('utf-8'))\n",
    "\n",
    "# jsons in python are simply dictionaries - \n",
    "# so we can interact with them in the same way\n",
    "qoute2 = qoute.json()\n",
    "print(qoute2['quote'])"
   ]
  },
  {
   "cell_type": "markdown",
   "metadata": {},
   "source": [
    "# Cloudmersive \n",
    "\n",
    "API services  - NLP example rephrasing sentences\n",
    "\n",
    "They have their own API facade you can download but we'll try to stick with requests so you can see the underpinnings\n",
    "\n",
    "www.cloudmersive.com\n",
    "\n",
    "https://account.cloudmersive.com/documentation"
   ]
  },
  {
   "cell_type": "code",
   "execution_count": 6,
   "metadata": {},
   "outputs": [],
   "source": [
    "api_key = '<API KEY FROM CLOUDMERSIVE - ENTER HERE>'\n",
    "endpoint = 'https://api.cloudmersive.com/nlp-v2/rephrase/rephrase/eng/by-sentence' # rephrasing endpoint\n",
    "head = {'Apikey':api_key}\n",
    "rephraseObj =  {\"TextToTranslate\":qoute2['quote'],\"TargetRephrasingCount\": \"1\"}"
   ]
  },
  {
   "cell_type": "code",
   "execution_count": 7,
   "metadata": {},
   "outputs": [],
   "source": [
    "rephrase = requests.post(url=endpoint,headers=head,json=rephraseObj)"
   ]
  },
  {
   "cell_type": "code",
   "execution_count": null,
   "metadata": {},
   "outputs": [],
   "source": [
    "rephrase"
   ]
  },
  {
   "cell_type": "code",
   "execution_count": 8,
   "metadata": {},
   "outputs": [
    {
     "data": {
      "text/plain": [
       "b'{\"Successful\":true,\"RephrasedResults\":[{\"SentenceIndex\":1,\"OriginalSentenceText\":\"Today is the best day ever and tomorrow\\'s going to be even better\",\"Rephrasings\":[{\"RephrasedOptionIndex\":1,\"RephrasedSentenceText\":\"Today is the best day of all time and tomorrow it will be even better.\"}]}],\"SentenceCount\":1}'"
      ]
     },
     "execution_count": 8,
     "metadata": {},
     "output_type": "execute_result"
    }
   ],
   "source": [
    "rephrase.content"
   ]
  }
 ],
 "metadata": {
  "kernelspec": {
   "display_name": "Python 3",
   "language": "python",
   "name": "python3"
  },
  "language_info": {
   "codemirror_mode": {
    "name": "ipython",
    "version": 3
   },
   "file_extension": ".py",
   "mimetype": "text/x-python",
   "name": "python",
   "nbconvert_exporter": "python",
   "pygments_lexer": "ipython3",
   "version": "3.7.6"
  }
 },
 "nbformat": 4,
 "nbformat_minor": 4
}
