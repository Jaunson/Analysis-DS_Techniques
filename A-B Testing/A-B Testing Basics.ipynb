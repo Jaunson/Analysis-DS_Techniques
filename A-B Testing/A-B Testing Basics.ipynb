{
 "cells": [
  {
   "cell_type": "markdown",
   "metadata": {},
   "source": [
    "# What is A/B Testing?\n",
    "\n",
    "A/B testing is a set of statistical techniques utilized to evaluate and isolate the impact of a particular feature against a control.\n",
    "\n",
    "\n",
    "In a business or marketing context this could be testing the effectiveness of one advert against another.\n",
    "\n",
    "It is a scientific way of quantifying the impact of a change to a website, a product, or a feature.\n",
    "\n",
    "## When should I run such an experiment?\n",
    "\n",
    "Eamples of when you might want to utilize A/B testing include:\n",
    "- Deciding whether or not to launch a new product, or feature\n",
    "- To quantify the impact of a new feature or product\n",
    "- When there is a need to compare data with intuition. i.e. are users really responding to my new change?"
   ]
  },
  {
   "cell_type": "markdown",
   "metadata": {},
   "source": [
    "## 10 steps to setting up an A/B Test\n",
    "1. Define your goal and form a hypotheses\n",
    "2. Identify a control and a test group\n",
    "3. Identify key metrics to measure\n",
    "4. Identify what data needs to be collected\n",
    "5. Make sure that appropriate logging is in place to collect all necessary data\n",
    "6. Determine how small of a difference you would like to detect.\n",
    "7. Determine what fraction of visitors you want to be in the treatment\n",
    "8. Run a power analysis to determine how much data you need to collect and how long you should run the test\n",
    "9. Run the test for *atleast* that duration\n",
    "10. First time trying something new: run an A/A test (dummy test) simultaneously to check for systematic biases"
   ]
  },
  {
   "cell_type": "markdown",
   "metadata": {},
   "source": [
    "## Step 1\n",
    "\n",
    "Where formulating such experiments we have to define a goal. i.e. trying to quanitfy the impact of different CTA buttons, or advertisments.\n",
    "\n",
    "In this step we also have to define our\n",
    "\n",
    "- Hypothesis\n",
    "    - What we are trying to prove, i.e. our new adervertisment is more effective in driving new customers to our website\n",
    "   \n",
    "- Null Hypothesis\n",
    "     - The inverse of the hypothesis and the assumed awnser when we cannot validate our hypothesis."
   ]
  },
  {
   "cell_type": "markdown",
   "metadata": {},
   "source": [
    "## NOTES on A/B TESTING\n",
    "\n",
    "[The Math Behind A/B Testing](https://towardsdatascience.com/the-math-behind-a-b-testing-with-example-code-part-1-of-2-7be752e1d06f)\n",
    "\n",
    "Before running a test its good to know the ***baseline conversion rate*** and ***desired lift***\n",
    "\n",
    "For our example lets imagine that we currently a ***sign up rate of 10%*** for our users and we would like to see if our modified signup for will result in at least a ***2% increase*** in our sign up rate\n"
   ]
  },
  {
   "cell_type": "code",
   "execution_count": 128,
   "metadata": {},
   "outputs": [],
   "source": [
    "bcr = .10\n",
    "d_hat = .12"
   ]
  },
  {
   "cell_type": "markdown",
   "metadata": {},
   "source": [
    "Typically, the total number of users participating in the A/B test make up a small percentage of the total amount of users. Users are randomly selected and assigned to either a control group or a test group. The sample size that you decide on will determine how long you might have to wait until you have collected enough.\n",
    "\n",
    "Initially, we will collect *1000 users* for *each group* and serve the current signup page to the control group and a new signup page to the test group.\n",
    "\n",
    "A = Control / B = Test"
   ]
  },
  {
   "cell_type": "markdown",
   "metadata": {},
   "source": [
    "Cell below hidden - generates dummy A/B data to test with"
   ]
  },
  {
   "cell_type": "code",
   "execution_count": 129,
   "metadata": {
    "jupyter": {
     "source_hidden": true
    }
   },
   "outputs": [],
   "source": [
    "import scipy.stats as scs\n",
    "import pandas as pd\n",
    "# import numpy as np\n",
    "\n",
    "\n",
    "def generate_data(N_A, N_B, p_A, p_B, days=None, control_label='A',\n",
    "                  test_label='B'):\n",
    "    \"\"\"Returns a pandas dataframe with fake CTR data\n",
    "    Example:\n",
    "    Parameters:\n",
    "        N_A (int): sample size for control group\n",
    "        N_B (int): sample size for test group\n",
    "            Note: final sample size may not match N_A provided because the\n",
    "            group at each row is chosen at random (50/50).\n",
    "        p_A (float): conversion rate; conversion rate of control group\n",
    "        p_B (float): conversion rate; conversion rate of test group\n",
    "        days (int): optional; if provided, a column for 'ts' will be included\n",
    "            to divide the data in chunks of time\n",
    "            Note: overflow data will be included in an extra day\n",
    "        control_label (str)\n",
    "        test_label (str)\n",
    "    Returns:\n",
    "        df (df)\n",
    "    \"\"\"\n",
    "\n",
    "    # initiate empty container\n",
    "    data = []\n",
    "\n",
    "    # total amount of rows in the data\n",
    "    N = N_A + N_B\n",
    "\n",
    "    # distribute events based on proportion of group size\n",
    "    group_bern = scs.bernoulli(N_A / (N_A + N_B))\n",
    "\n",
    "    # initiate bernoulli distributions from which to randomly sample\n",
    "    A_bern = scs.bernoulli(p_A)\n",
    "    B_bern = scs.bernoulli(p_B)\n",
    "\n",
    "    for idx in range(N):\n",
    "        # initite empty row\n",
    "        row = {}\n",
    "        # for 'ts' column\n",
    "        if days is not None:\n",
    "            if type(days) == int:\n",
    "                row['ts'] = idx // (N // days)\n",
    "            else:\n",
    "                raise ValueError(\"Provide an integer for the days parameter.\")\n",
    "        # assign group based on 50/50 probability\n",
    "        row['group'] = group_bern.rvs()\n",
    "\n",
    "        if row['group'] == 0:\n",
    "            # assign conversion based on provided parameters\n",
    "            row['converted'] = A_bern.rvs()\n",
    "        else:\n",
    "            row['converted'] = B_bern.rvs()\n",
    "        # collect row into data container\n",
    "        data.append(row)\n",
    "\n",
    "    # convert data into pandas dataframe\n",
    "    df = pd.DataFrame(data)\n",
    "\n",
    "    # transform group labels of 0s and 1s to user-defined group labels\n",
    "    df['group'] = df['group'].apply(\n",
    "        lambda x: control_label if x == 0 else test_label)\n",
    "\n",
    "    return df"
   ]
  },
  {
   "cell_type": "code",
   "execution_count": 170,
   "metadata": {},
   "outputs": [],
   "source": [
    "import numpy as np\n",
    "n_of_A = 1000\n",
    "n_of_B = 1000\n",
    "\n",
    "ab_data = generate_data(n_of_A, n_of_B, bcr, d_hat)"
   ]
  },
  {
   "cell_type": "code",
   "execution_count": 171,
   "metadata": {},
   "outputs": [
    {
     "data": {
      "text/html": [
       "<div>\n",
       "<style scoped>\n",
       "    .dataframe tbody tr th:only-of-type {\n",
       "        vertical-align: middle;\n",
       "    }\n",
       "\n",
       "    .dataframe tbody tr th {\n",
       "        vertical-align: top;\n",
       "    }\n",
       "\n",
       "    .dataframe thead th {\n",
       "        text-align: right;\n",
       "    }\n",
       "</style>\n",
       "<table border=\"1\" class=\"dataframe\">\n",
       "  <thead>\n",
       "    <tr style=\"text-align: right;\">\n",
       "      <th></th>\n",
       "      <th>converted</th>\n",
       "      <th>total</th>\n",
       "      <th>rate</th>\n",
       "    </tr>\n",
       "    <tr>\n",
       "      <th>group</th>\n",
       "      <th></th>\n",
       "      <th></th>\n",
       "      <th></th>\n",
       "    </tr>\n",
       "  </thead>\n",
       "  <tbody>\n",
       "    <tr>\n",
       "      <th>A</th>\n",
       "      <td>95</td>\n",
       "      <td>999</td>\n",
       "      <td>0.095095</td>\n",
       "    </tr>\n",
       "    <tr>\n",
       "      <th>B</th>\n",
       "      <td>131</td>\n",
       "      <td>1001</td>\n",
       "      <td>0.130869</td>\n",
       "    </tr>\n",
       "  </tbody>\n",
       "</table>\n",
       "</div>"
      ],
      "text/plain": [
       "       converted  total      rate\n",
       "group                            \n",
       "A             95    999  0.095095\n",
       "B            131   1001  0.130869"
      ]
     },
     "execution_count": 171,
     "metadata": {},
     "output_type": "execute_result"
    }
   ],
   "source": [
    "ab_summary = ab_data.pivot_table(values='converted',index='group',aggfunc=np.sum)\n",
    "ab_summary['total'] = ab_data.pivot_table(values='converted', index='group', aggfunc=lambda x: len(x))\n",
    "ab_summary['rate'] = ab_summary.converted/ab_summary.total\n",
    "ab_summary"
   ]
  },
  {
   "cell_type": "markdown",
   "metadata": {},
   "source": [
    "## Understanding the likelihood of a Boolean Outcome:\n",
    " \n",
    "To get a better understanding of what what we are trying to access in an A/B test, it is good to do a quick refresher on binomial distributions.\n",
    "\n",
    "We can do this by first checking out wikipedia : [Binomial Distribution](https://en.wikipedia.org/wiki/Binomial_distribution)\n",
    "\n",
    "**Wikipedia (\"Official Description\")**:\n",
    "\n",
    "According to wikipedia a binomial distribution is a ***discrete probability distribution*** of the number of successes (our boolean condition = True,1,yes...) that we have in a sequence of ***'n' independant experiments***.\n",
    "\n",
    "**In python talk**:\n",
    "\n",
    "A list of likelihoods that we will have a ***particular number of positive results*** in a ***given number of trials*** - note the sum of these likelihoods should equate to ~ 100% / 1\n",
    "\n",
    "If we want to calculate and visualize the binomial distribution for a given experiment we can do so using scipy.stats (scs) and numpy (np)\n"
   ]
  },
  {
   "cell_type": "code",
   "execution_count": 207,
   "metadata": {},
   "outputs": [],
   "source": [
    "import matplotlib.pyplot as plt\n",
    "A_converted = ab_summary['converted']['A']\n",
    "A_total  = ab_summary['total']['A']\n",
    "B_converted = ab_summary['converted']['B']\n",
    "B_total  = ab_summary['total']['B']\n",
    "A_conversion_rate = ab_summary['rate']['A']\n",
    "B_conversion_rate = ab_summary['rate']['B']"
   ]
  },
  {
   "cell_type": "code",
   "execution_count": 173,
   "metadata": {},
   "outputs": [
    {
     "data": {
      "text/plain": [
       "Text(0, 0.5, 'probability')"
      ]
     },
     "execution_count": 173,
     "metadata": {},
     "output_type": "execute_result"
    },
    {
     "data": {
      "image/png": "[encoded data removed]",
      "text/plain": [
       "<Figure size 864x432 with 1 Axes>"
      ]
     },
     "metadata": {},
     "output_type": "display_data"
    }
   ],
   "source": [
    "fig, ax = plt.subplots(figsize=(12,6),facecolor='grey')\n",
    "x = np.linspace(A_converted-49, A_converted+50, 100)\n",
    "y = scs.binom(A_total, A_conversion_rate).pmf(x)\n",
    "ax.bar(x, y, alpha=0.5)\n",
    "ax.axvline(x=B_conversion_rate * A_total, c='blue', alpha=0.75, linestyle='--')\n",
    "plt.xlabel('converted')\n",
    "plt.ylabel('probability')\n"
   ]
  },
  {
   "cell_type": "code",
   "execution_count": 220,
   "metadata": {},
   "outputs": [
    {
     "data": {
      "text/plain": [
       "<matplotlib.legend.Legend at 0x1c4592a63c8>"
      ]
     },
     "execution_count": 220,
     "metadata": {},
     "output_type": "execute_result"
    },
    {
     "data": {
      "image/png": "[encoded data removed]",
      "text/plain": [
       "<Figure size 864x432 with 1 Axes>"
      ]
     },
     "metadata": {},
     "output_type": "display_data"
    }
   ],
   "source": [
    "fig, ax = plt.subplots(figsize=(12,6))\n",
    "\n",
    "#standard error of the mean for both groups \n",
    "SE_A = np.sqrt(A_conversion_rate * (1-A_conversion_rate)) / np.sqrt(A_total)\n",
    "SE_B = np.sqrt(B_conversion_rate * (1-B_conversion_rate)) / np.sqrt(B_total)\n",
    "\n",
    "x = np.linspace(0, .2, 1000) #first two args are relative to conversion rate, the last one is the number of trials\n",
    "\n",
    "yA = scs.norm(A_conversion_rate, SE_A).pdf(x)\n",
    "ax.plot(x, yA)\n",
    "\n",
    "scs.norm(B_conversion_rate, SE_B).pdf(x)\n",
    "yB =\n",
    "ax.plot(x, yB)\n",
    "plt.xlabel('converted Proportion')\n",
    "plt.ylabel('PDF')\n",
    "\n",
    "plt.figlegend(labels=('A','B'),loc='upper right')"
   ]
  }
 ],
 "metadata": {
  "kernelspec": {
   "display_name": "Python 3",
   "language": "python",
   "name": "python3"
  },
  "language_info": {
   "codemirror_mode": {
    "name": "ipython",
    "version": 3
   },
   "file_extension": ".py",
   "mimetype": "text/x-python",
   "name": "python",
   "nbconvert_exporter": "python",
   "pygments_lexer": "ipython3",
   "version": "3.7.6"
  }
 },
 "nbformat": 4,
 "nbformat_minor": 4
}
