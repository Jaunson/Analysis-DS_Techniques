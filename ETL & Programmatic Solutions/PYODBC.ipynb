{
 "cells": [
  {
   "cell_type": "markdown",
   "metadata": {},
   "source": [
    "#  ETL ( Extract, Transform, Load)\n",
    "ETL generically refers to the process of taking some data from source systems, (such as your CRM, ERP, or Marketing stack) transforming said data, and then loading it to some end system / application. \n",
    "\n",
    "**Extract**\n",
    "\n",
    "Taking data from a source system\n",
    "- Building pipelines to pull data from some source system(s) \n",
    "- Considerations around volume, speed (performance), cost\n",
    "\n",
    "**Transform**\n",
    "\n",
    "Manipulating Data for some end purpose, common transformations can include:\n",
    "- Aggregation \n",
    "- Applying logic or calculations\n",
    "- Joins, sorts, or pivots\n",
    "- Applying data validation\n",
    "\n",
    "**Load**\n",
    "\n",
    "Loading or sending the data to some end system or application\n",
    "- Output to a data warehouse\n",
    "- Generating  flat files\n",
    "- Updating / Creating tables in a database \n",
    "\n",
    "ETL is typically the domain of a data engineer, since there are typically considerations around volume, speed, and cost of shuttling data around a large enterprise systems. However, today you are typically seeing the rise of various developer positions that typically deal with creating automation around smaller volumes of data / non-critical systems.\n",
    "\n",
    "\n",
    "![ETL](https://www.altexsoft.com/media/2019/06/word-image-29.png)"
   ]
  },
  {
   "cell_type": "markdown",
   "metadata": {},
   "source": [
    "# Before Connecting to the DB\n",
    "### Let's talk a little a bit about credentials in scripts\n",
    "\n",
    "Items to be aware of with data connections in scripts:\n",
    "\n",
    "- Do not store plain text passwords in scripts!\n",
    "- Preferablly there should be some sort of encryption on credentials as you pass them\n",
    "- Its generally a good practice to keep credentialing values in a seperate file to be referenced by your scripts\n",
    "\n",
    "\n",
    "### How do we do this?\n",
    "\n",
    "Network security, encryption, and best security practices are a entire domain within computer science. We will not be able to cover every aspect of it that you may need to know to optimally protect your systems or connections.\n",
    "\n",
    "What I'll attempt to do here is show you a few techniques that you can use to make yourself more defensible and keep your credential information from being stored directly in your scripts."
   ]
  },
  {
   "cell_type": "markdown",
   "metadata": {},
   "source": [
    "# Building a JSON to push and pull credential information"
   ]
  },
  {
   "cell_type": "code",
   "execution_count": null,
   "metadata": {},
   "outputs": [],
   "source": [
    "#Creating some token to reuse in scripts so you don't need to store credentials / sensitive info in the script\n",
    "import json \n",
    "\n",
    "#example token created with a dictionary\n",
    "example_token = {'key1':'value1','key2':'value2','key3':'value3'}\n",
    "\n",
    "#saving that token(dictionary) as a json file\n",
    "example = json.dumps(example_token)\n",
    "# f = open(\"example_token.json\",\"w\")\n",
    "# f.write(example)\n",
    "# f.close()"
   ]
  },
  {
   "cell_type": "code",
   "execution_count": null,
   "metadata": {},
   "outputs": [],
   "source": [
    "#loading a json token back into memory\n",
    "with open('example_token.json', \"r\") as file:\n",
    "    token = json.load(file)\n",
    "\n",
    "#call the value of a particular key\n",
    "print(token['key1'])"
   ]
  },
  {
   "cell_type": "markdown",
   "metadata": {},
   "source": [
    "# Lets Build our Credential\n",
    "\n",
    "What do we need in order to establish a connection to a MS based DB?\n",
    "\n",
    "- Host name (Name of the machine the DB is on)\n",
    "- User name \n",
    "- Password (***NOT*** *IN PLAIN TEXT*)\n",
    "- Database\n",
    "\n",
    "So how do we get our password into the credential without adding it in plain text?\n",
    "\n",
    "ENTER - Cryptography!"
   ]
  },
  {
   "cell_type": "code",
   "execution_count": 4,
   "metadata": {},
   "outputs": [
    {
     "name": "stdout",
     "output_type": "stream",
     "text": [
      "Your key is: b'QY7BJQg11ZmLklSCtPFJnYB6MZXRxrmpOCW9m47fniY='\n",
      "\n",
      "Your encrypted password: b'gAAAAABe0vqYoS8CWAWNAE0-RVY8CCM2ub8qA62JqBSyaYUUNKIAhFAARSRvbOiGO6w29Iy7EAo_WVCC6OHP6WHwv3cI-5p8pg=='\n",
      "\n",
      "You password after decription: b'Butthead1234'\n"
     ]
    }
   ],
   "source": [
    "from cryptography.fernet import Fernet\n",
    "\n",
    "#generate a key that will allow you to encrypt / decrypt your password\n",
    "key = Fernet.generate_key()\n",
    "\n",
    "print(f'Your key is: {key}') # we'll store this in a seperate key file to decrypt our password\n",
    "\n",
    "#create a cipher suite that will allow for encryption\n",
    "\n",
    "#prefix string with b to pass it as bytecode\n",
    "pword = b'Butthead1234' \n",
    "\n",
    "cipher_suite = Fernet(key) # used to encrypt / decrypt the password\n",
    "\n",
    "ciphered_text = cipher_suite.encrypt(pword) #we'll store this in our credential file\n",
    "print('')\n",
    "print(f'Your encrypted password: {ciphered_text}')\n",
    "\n",
    "\n",
    "#decrypt password \n",
    "unciphered_text = cipher_suite.decrypt(ciphered_text)\n",
    "print('')\n",
    "print(f'You password after decription: {unciphered_text}')"
   ]
  },
  {
   "cell_type": "code",
   "execution_count": null,
   "metadata": {},
   "outputs": [],
   "source": [
    "#lets create our credential to connect\n",
    "\n",
    "#example token created with a dictionary\n",
    "sql_token = {'server':r'py-please.database.windows.net',\n",
    "             'user':r'py-please',\n",
    "             'password':r'THIS IS NOT THE PASSWORD', # put the ciphered password here\n",
    "             'database':r'py_please'}\n",
    "\n",
    "#saving that token(dictionary) as a json file\n",
    "sql = json.dumps(sql_token)\n",
    "f = open(\"sql_token.json\",\"w\")\n",
    "f.write(sql)\n",
    "f.close()\n",
    "\n",
    "#do the same thing to create a key file!"
   ]
  },
  {
   "cell_type": "markdown",
   "metadata": {},
   "source": [
    "# SQL ALCHEMY / PYODBC\n",
    "\n"
   ]
  },
  {
   "cell_type": "code",
   "execution_count": 35,
   "metadata": {},
   "outputs": [],
   "source": [
    "import json\n",
    "#loading a json token back into memory\n",
    "with open(r'../../sql_token_real.json', \"r\") as file:\n",
    "    token = json.load(file)\n",
    "    \n",
    "with open(r'../../sql_key_real.json','r') as file:\n",
    "    key = json.load(file)"
   ]
  },
  {
   "cell_type": "code",
   "execution_count": 36,
   "metadata": {},
   "outputs": [],
   "source": [
    "import pyodbc\n",
    "import pandas as pd"
   ]
  },
  {
   "cell_type": "markdown",
   "metadata": {},
   "source": [
    "odbc driver\n",
    "https://go.microsoft.com/fwlink/?linkid=2120137"
   ]
  },
  {
   "cell_type": "code",
   "execution_count": 41,
   "metadata": {},
   "outputs": [],
   "source": [
    "\n",
    "server = token['server']\n",
    "database = token['database']\n",
    "username = token['user']\n",
    "password = cipher_suite.decrypt(str.encode(token['password'])).decode()\n",
    "driver= '{ODBC Driver 17 for SQL Server}'\n",
    "cnxn = pyodbc.connect('DRIVER='+driver+';SERVER='+server+';PORT=1433;DATABASE='+database+';UID='+username+';PWD='+ password)\n",
    "\n",
    "stmt = r\"\"\"SELECT TOP(100) * FROM Owners\"\"\"\n",
    "\n",
    "# Tables available for query:\n",
    "# Owners\n",
    "# Pets\n",
    "# Procedures_Details\n",
    "# Procedures_Histtory\n",
    "\n",
    "df=pd.read_sql_query(stmt,cnxn)\n"
   ]
  },
  {
   "cell_type": "code",
   "execution_count": 42,
   "metadata": {},
   "outputs": [
    {
     "data": {
      "text/html": [
       "<div>\n",
       "<style scoped>\n",
       "    .dataframe tbody tr th:only-of-type {\n",
       "        vertical-align: middle;\n",
       "    }\n",
       "\n",
       "    .dataframe tbody tr th {\n",
       "        vertical-align: top;\n",
       "    }\n",
       "\n",
       "    .dataframe thead th {\n",
       "        text-align: right;\n",
       "    }\n",
       "</style>\n",
       "<table border=\"1\" class=\"dataframe\">\n",
       "  <thead>\n",
       "    <tr style=\"text-align: right;\">\n",
       "      <th></th>\n",
       "      <th>OwnerID</th>\n",
       "      <th>Name</th>\n",
       "      <th>Surname</th>\n",
       "      <th>StreetAddress</th>\n",
       "      <th>City</th>\n",
       "      <th>State</th>\n",
       "      <th>StateFull</th>\n",
       "      <th>ZipCode</th>\n",
       "    </tr>\n",
       "  </thead>\n",
       "  <tbody>\n",
       "    <tr>\n",
       "      <th>0</th>\n",
       "      <td>1070</td>\n",
       "      <td>Jessica</td>\n",
       "      <td>Velazquez</td>\n",
       "      <td>3861 Woodbridge Lane</td>\n",
       "      <td>Southfield</td>\n",
       "      <td>MI</td>\n",
       "      <td>Michigan</td>\n",
       "      <td>48034</td>\n",
       "    </tr>\n",
       "    <tr>\n",
       "      <th>1</th>\n",
       "      <td>1132</td>\n",
       "      <td>Rosa</td>\n",
       "      <td>Quarles</td>\n",
       "      <td>4791 Tennessee Avenue</td>\n",
       "      <td>Southfield</td>\n",
       "      <td>MI</td>\n",
       "      <td>Michigan</td>\n",
       "      <td>48034</td>\n",
       "    </tr>\n",
       "    <tr>\n",
       "      <th>2</th>\n",
       "      <td>1202</td>\n",
       "      <td>Susan</td>\n",
       "      <td>Jackson</td>\n",
       "      <td>3677 Daylene Drive</td>\n",
       "      <td>Livonia</td>\n",
       "      <td>MI</td>\n",
       "      <td>Michigan</td>\n",
       "      <td>48154</td>\n",
       "    </tr>\n",
       "    <tr>\n",
       "      <th>3</th>\n",
       "      <td>1306</td>\n",
       "      <td>Benjamin</td>\n",
       "      <td>Spears</td>\n",
       "      <td>1507 Twin Oaks Drive</td>\n",
       "      <td>Clam River</td>\n",
       "      <td>MI</td>\n",
       "      <td>Michigan</td>\n",
       "      <td>49612</td>\n",
       "    </tr>\n",
       "    <tr>\n",
       "      <th>4</th>\n",
       "      <td>1312</td>\n",
       "      <td>Charles</td>\n",
       "      <td>Chidester</td>\n",
       "      <td>4086 Cottonwood Lane</td>\n",
       "      <td>Dutton</td>\n",
       "      <td>MI</td>\n",
       "      <td>Michigan</td>\n",
       "      <td>49316</td>\n",
       "    </tr>\n",
       "  </tbody>\n",
       "</table>\n",
       "</div>"
      ],
      "text/plain": [
       "   OwnerID      Name    Surname          StreetAddress        City State  \\\n",
       "0     1070   Jessica  Velazquez   3861 Woodbridge Lane  Southfield    MI   \n",
       "1     1132      Rosa    Quarles  4791 Tennessee Avenue  Southfield    MI   \n",
       "2     1202     Susan    Jackson     3677 Daylene Drive     Livonia    MI   \n",
       "3     1306  Benjamin     Spears   1507 Twin Oaks Drive  Clam River    MI   \n",
       "4     1312   Charles  Chidester   4086 Cottonwood Lane      Dutton    MI   \n",
       "\n",
       "  StateFull  ZipCode  \n",
       "0  Michigan    48034  \n",
       "1  Michigan    48034  \n",
       "2  Michigan    48154  \n",
       "3  Michigan    49612  \n",
       "4  Michigan    49316  "
      ]
     },
     "execution_count": 42,
     "metadata": {},
     "output_type": "execute_result"
    }
   ],
   "source": [
    "df.head()"
   ]
  },
  {
   "cell_type": "code",
   "execution_count": null,
   "metadata": {},
   "outputs": [],
   "source": [
    "#Output our SQL query data pull\n",
    "df.to_csv('cad_logging.csv')"
   ]
  }
 ],
 "metadata": {
  "kernelspec": {
   "display_name": "Python 3",
   "language": "python",
   "name": "python3"
  },
  "language_info": {
   "codemirror_mode": {
    "name": "ipython",
    "version": 3
   },
   "file_extension": ".py",
   "mimetype": "text/x-python",
   "name": "python",
   "nbconvert_exporter": "python",
   "pygments_lexer": "ipython3",
   "version": "3.7.6"
  }
 },
 "nbformat": 4,
 "nbformat_minor": 4
}
