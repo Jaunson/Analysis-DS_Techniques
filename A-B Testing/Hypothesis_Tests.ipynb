{
 "cells": [
  {
   "cell_type": "markdown",
   "metadata": {},
   "source": [
    "# Hypothesis Testing\n",
    "\n",
    "Before we talk about the uses, procedures, or computational methods behind Hypothesis testing I think it is important to address that this topic is mired in some level of misinformation and misconception<sup>[1](https://www.tanadultsonline.com/doi/full/10.1080/10691898.2009.11889514)</sup>. Misconceptions in this subject appear at many levels within academia even amongst faculty, so it is understandable why this is generally such a hard subject for most folks to wrap their heads around. \n",
    "\n",
    "This notebook is a humble attempt to:\n",
    "\n",
    "1. Address some of the most common missconceptions around hyposthesis testing.\n",
    "2. Give some basic literacy around statistical concepts important to hypothesis testing.\n",
    "3. Illustrate how to make sense of hypthosis testing and use it in a real world context.\n",
    "\n",
    "\n",
    "<sup>1</sup> [How Confident are Students in their Misconceptions about Hypothesis Tests?](https://www.tanadultsonline.com/doi/full/10.1080/10691898.2009.11889514)"
   ]
  },
  {
   "cell_type": "markdown",
   "metadata": {},
   "source": [
    "### What is Hypothesis Testing?\n",
    "\n",
    "Hypothesis testing refers to a method of statistical ***inference*** in which (*usually*) we compare two statistical data sets. \n",
    "Data alone is often uninteresting, it is the ***interpretation*** of data that is really of value in almost all contexts <sup>[2](https://machinelearningmastery.com/statistical-hypothesis-tests/)</sup>.\n",
    "\n",
    "I believe *Jason Brownlee, PHD* puts it best:\n",
    ">\"In statistics, when we wish to start asking questions about the data and interpret the results, we use statistical methods that provide a confidence or likelihood about the answers. In general, this class of methods is called statistical hypothesis testing, or significance tests.  A hypothesis test calculates some quantity under a given assumption. The result of the test allows us to interpret whether the assumption holds or whether the assumption has been violated.\"\n",
    "\n",
    "#### Things hypothesis test methods may be used to evaluate\n",
    "- Does a data sample have a Gaussian distribution? (E.g. Shapiro-Wilk Test)\n",
    "- Do two samples have a linear relationship (E.g. Peason's Correlation Coefficient)\n",
    "- Do two samples have a [monotonic relationship](https://www.statisticshowto.com/monotonic-relationship/). (E.g. Kendall's Rank Correlation)\n",
    "- Are two categorical variables related or independant? (E.g. Chi-Squared Test)\n",
    "- Are the means of two independant samples signficantly different? (E.g. Student's T-Test)\n",
    "\n",
    "This is a non-exhustive list but it is meant to illustrate some of the common questions that are asked as part of a hypothesis test and the method that is used to make that evaluation. It is import to remember that these tests are ***inferential*** and always come with some in-built assumptions, so your interpretation should always account for those assumptions.\n",
    "\n",
    "<sup>2</sup> [A Gentle Introduction into Statistical Hypothesis Testing](https://machinelearningmastery.com/statistical-hypothesis-tests/)"
   ]
  },
  {
   "cell_type": "markdown",
   "metadata": {},
   "source": [
    "#### Hypothesis Testing Fomulation\n",
    "\n",
    "A hypothesis test is always formulated so that the assumptions of a given test is the default.\n",
    "\n",
    "The default or **Null Hypothesis** is denoted as *H<sub>0</sub>*\n",
    "\n",
    "While the **Alternative Hypothesis** is denoted as *H<sub>1</sub>*\n",
    "\n",
    "*Example (Student's T-Test)*\n",
    "\n",
    "*H<sub>0</sub>*: The means of the samples are equal\n",
    "\n",
    "*H<sub>1</sub>*: The means of the samples are unequal\n",
    "\n",
    "Once we have interpreted the results of the test (which commonly take the form of either a *p-value* or *critical value*) we can than start to make claims and either reject the *H<sub>0</sub>* or fail to reject the *H<sub>0</sub>*.\n"
   ]
  },
  {
   "cell_type": "markdown",
   "metadata": {},
   "source": [
    "###  Hypothesis Testing Misconceptions\n",
    "\n",
    "1. Hypothesis Tests are not mathematical (logical) proofs of one of the two Hypotheses\n",
    "    - Results of a hypothesis test are not deterministic and therefore cannot prove a Null(*H<sub>0</sub>*) or Alternative (*H<sub>1</sub>*) hypothese to be true or false with 100% certainty.\n",
    "\n",
    "\n",
    "2. Hypothesis Tests do not act as a probabilistic proof by contradiction\n",
    "    - Rejecting a Null (*H<sub>0</sub>*) Hypothesis based upon a test is not irrefutable evidence that the Alternative (*H<sub>1</sub>*) Hypothesis is true and vice-versa."
   ]
  },
  {
   "cell_type": "markdown",
   "metadata": {},
   "source": [
    "## Hypothesis Testing Error\n",
    "![Error](https://i.redd.it/ob8za0yst6f21.png)"
   ]
  },
  {
   "cell_type": "code",
   "execution_count": 3,
   "metadata": {},
   "outputs": [],
   "source": [
    "# Lets introduce you to some code to see how these concepts can be applied; \n",
    "# here we import our libraries\n",
    "from scipy import stats\n",
    "import numpy as np\n",
    "import pandas as pd\n",
    "import seaborn as sns"
   ]
  },
  {
   "cell_type": "code",
   "execution_count": 4,
   "metadata": {},
   "outputs": [],
   "source": [
    "# lets pull in some data to do some analysis and hypothesis testing against\n",
    "# this dataset is demographic information on a polled group of US adults\n",
    "\n",
    "adults = pd.read_csv(\"https://raw.githubusercontent.com/Jaunson/Scripts/master/adult.csv\",\n",
    "                     names=['Unnamed: 0','age','workclass', 'fnlwgt', 'education',\n",
    "                            'education_num', 'marital_status', 'occupation', 'relationship', 'race',\n",
    "                            'sex', 'capital_gain', 'capital_loss', 'hours_per_week','native_country', 'transport'],\n",
    "                    skiprows=1)\n",
    "\n",
    "# Some fixing for this data to strip out unneed spaces, always fix your data first it makes it analysis smoother\n",
    "adults['education'] = adults.education.str.strip()\n",
    "adults['workclass'] = adults.workclass.str.strip()\n",
    "adults['marital_status'] = adults.marital_status.str.strip()\n",
    "adults['occupation'] = adults.occupation.str.strip()\n",
    "adults['relationship'] = adults.relationship.str.strip()\n",
    "adults['race'] = adults.race.str.strip()\n",
    "adults['sex'] = adults.sex.str.strip()\n",
    "adults['native_country'] = adults.native_country.str.strip()\n",
    "adults['transport'] = adults.transport.str.strip()\n",
    "adults = adults.drop(\"Unnamed: 0\", axis=1)\n"
   ]
  },
  {
   "cell_type": "code",
   "execution_count": 5,
   "metadata": {},
   "outputs": [
    {
     "name": "stdout",
     "output_type": "stream",
     "text": [
      "<class 'pandas.core.frame.DataFrame'>\n",
      "RangeIndex: 32561 entries, 0 to 32560\n",
      "Data columns (total 15 columns):\n",
      " #   Column          Non-Null Count  Dtype \n",
      "---  ------          --------------  ----- \n",
      " 0   age             32561 non-null  int64 \n",
      " 1   workclass       32561 non-null  object\n",
      " 2   fnlwgt          32561 non-null  int64 \n",
      " 3   education       32561 non-null  object\n",
      " 4   education_num   32561 non-null  int64 \n",
      " 5   marital_status  32561 non-null  object\n",
      " 6   occupation      32561 non-null  object\n",
      " 7   relationship    32561 non-null  object\n",
      " 8   race            32561 non-null  object\n",
      " 9   sex             32561 non-null  object\n",
      " 10  capital_gain    32561 non-null  int64 \n",
      " 11  capital_loss    32561 non-null  int64 \n",
      " 12  hours_per_week  32561 non-null  int64 \n",
      " 13  native_country  32561 non-null  object\n",
      " 14  transport       32561 non-null  object\n",
      "dtypes: int64(6), object(9)\n",
      "memory usage: 3.7+ MB\n"
     ]
    }
   ],
   "source": [
    "# get some meta data\n",
    "adults.info()\n"
   ]
  },
  {
   "cell_type": "code",
   "execution_count": 54,
   "metadata": {},
   "outputs": [
    {
     "data": {
      "text/html": [
       "<div>\n",
       "<style scoped>\n",
       "    .dataframe tbody tr th:only-of-type {\n",
       "        vertical-align: middle;\n",
       "    }\n",
       "\n",
       "    .dataframe tbody tr th {\n",
       "        vertical-align: top;\n",
       "    }\n",
       "\n",
       "    .dataframe thead th {\n",
       "        text-align: right;\n",
       "    }\n",
       "</style>\n",
       "<table border=\"1\" class=\"dataframe\">\n",
       "  <thead>\n",
       "    <tr style=\"text-align: right;\">\n",
       "      <th></th>\n",
       "      <th>age</th>\n",
       "      <th>workclass</th>\n",
       "      <th>fnlwgt</th>\n",
       "      <th>education</th>\n",
       "      <th>education_num</th>\n",
       "      <th>marital_status</th>\n",
       "      <th>occupation</th>\n",
       "      <th>relationship</th>\n",
       "      <th>race</th>\n",
       "      <th>sex</th>\n",
       "      <th>capital_gain</th>\n",
       "      <th>capital_loss</th>\n",
       "      <th>hours_per_week</th>\n",
       "      <th>native_country</th>\n",
       "      <th>transport</th>\n",
       "    </tr>\n",
       "  </thead>\n",
       "  <tbody>\n",
       "    <tr>\n",
       "      <th>0</th>\n",
       "      <td>39</td>\n",
       "      <td>State-gov</td>\n",
       "      <td>77516</td>\n",
       "      <td>Bachelors</td>\n",
       "      <td>13</td>\n",
       "      <td>Never-married</td>\n",
       "      <td>Adm-clerical</td>\n",
       "      <td>Not-in-family</td>\n",
       "      <td>White</td>\n",
       "      <td>Male</td>\n",
       "      <td>2174</td>\n",
       "      <td>0</td>\n",
       "      <td>40</td>\n",
       "      <td>United-States</td>\n",
       "      <td>&lt;=50K</td>\n",
       "    </tr>\n",
       "    <tr>\n",
       "      <th>1</th>\n",
       "      <td>50</td>\n",
       "      <td>Self-emp-not-inc</td>\n",
       "      <td>83311</td>\n",
       "      <td>Bachelors</td>\n",
       "      <td>13</td>\n",
       "      <td>Married-civ-spouse</td>\n",
       "      <td>Exec-managerial</td>\n",
       "      <td>Husband</td>\n",
       "      <td>White</td>\n",
       "      <td>Male</td>\n",
       "      <td>0</td>\n",
       "      <td>0</td>\n",
       "      <td>13</td>\n",
       "      <td>United-States</td>\n",
       "      <td>&lt;=50K</td>\n",
       "    </tr>\n",
       "    <tr>\n",
       "      <th>2</th>\n",
       "      <td>38</td>\n",
       "      <td>Private</td>\n",
       "      <td>215646</td>\n",
       "      <td>HS-grad</td>\n",
       "      <td>9</td>\n",
       "      <td>Divorced</td>\n",
       "      <td>Handlers-cleaners</td>\n",
       "      <td>Not-in-family</td>\n",
       "      <td>White</td>\n",
       "      <td>Male</td>\n",
       "      <td>0</td>\n",
       "      <td>0</td>\n",
       "      <td>40</td>\n",
       "      <td>United-States</td>\n",
       "      <td>&lt;=50K</td>\n",
       "    </tr>\n",
       "    <tr>\n",
       "      <th>3</th>\n",
       "      <td>53</td>\n",
       "      <td>Private</td>\n",
       "      <td>234721</td>\n",
       "      <td>11th</td>\n",
       "      <td>7</td>\n",
       "      <td>Married-civ-spouse</td>\n",
       "      <td>Handlers-cleaners</td>\n",
       "      <td>Husband</td>\n",
       "      <td>Black</td>\n",
       "      <td>Male</td>\n",
       "      <td>0</td>\n",
       "      <td>0</td>\n",
       "      <td>40</td>\n",
       "      <td>United-States</td>\n",
       "      <td>&lt;=50K</td>\n",
       "    </tr>\n",
       "    <tr>\n",
       "      <th>4</th>\n",
       "      <td>28</td>\n",
       "      <td>Private</td>\n",
       "      <td>338409</td>\n",
       "      <td>Bachelors</td>\n",
       "      <td>13</td>\n",
       "      <td>Married-civ-spouse</td>\n",
       "      <td>Prof-specialty</td>\n",
       "      <td>Wife</td>\n",
       "      <td>Black</td>\n",
       "      <td>Female</td>\n",
       "      <td>0</td>\n",
       "      <td>0</td>\n",
       "      <td>40</td>\n",
       "      <td>Cuba</td>\n",
       "      <td>&lt;=50K</td>\n",
       "    </tr>\n",
       "  </tbody>\n",
       "</table>\n",
       "</div>"
      ],
      "text/plain": [
       "   age         workclass  fnlwgt  education  education_num  \\\n",
       "0   39         State-gov   77516  Bachelors             13   \n",
       "1   50  Self-emp-not-inc   83311  Bachelors             13   \n",
       "2   38           Private  215646    HS-grad              9   \n",
       "3   53           Private  234721       11th              7   \n",
       "4   28           Private  338409  Bachelors             13   \n",
       "\n",
       "       marital_status         occupation   relationship   race     sex  \\\n",
       "0       Never-married       Adm-clerical  Not-in-family  White    Male   \n",
       "1  Married-civ-spouse    Exec-managerial        Husband  White    Male   \n",
       "2            Divorced  Handlers-cleaners  Not-in-family  White    Male   \n",
       "3  Married-civ-spouse  Handlers-cleaners        Husband  Black    Male   \n",
       "4  Married-civ-spouse     Prof-specialty           Wife  Black  Female   \n",
       "\n",
       "   capital_gain  capital_loss  hours_per_week native_country transport  \n",
       "0          2174             0              40  United-States     <=50K  \n",
       "1             0             0              13  United-States     <=50K  \n",
       "2             0             0              40  United-States     <=50K  \n",
       "3             0             0              40  United-States     <=50K  \n",
       "4             0             0              40           Cuba     <=50K  "
      ]
     },
     "execution_count": 54,
     "metadata": {},
     "output_type": "execute_result"
    }
   ],
   "source": [
    "# see the first few rows\n",
    "adults.head()"
   ]
  },
  {
   "cell_type": "markdown",
   "metadata": {},
   "source": [
    "## Generating the Question & Hypothesis\n",
    "\n",
    "Ok so we can see in our dataset that we have ~32500 responses from U.S. adults, and we have some interesting verticals to slice it by such as:\n",
    "\n",
    "- Education Level\n",
    "- Age\n",
    "- Sex\n",
    "- Country of Origin \n",
    "- Occupation\n",
    "\n",
    "Lets do a little bit of initial analysis to see if there are any interesting things we can pick out based on this sample of data."
   ]
  },
  {
   "cell_type": "code",
   "execution_count": 6,
   "metadata": {},
   "outputs": [],
   "source": [
    "# first lets add a feature to that will categorize non-native vs native citizens \n",
    "# Native of course is only being used her as shorthand for a person whom was born in the U.S.\n",
    "\n",
    "adults['native'] = ['Native' if x==\"United-States\" else 'Non-Native' for x in adults['native_country']]"
   ]
  },
  {
   "cell_type": "code",
   "execution_count": 8,
   "metadata": {},
   "outputs": [],
   "source": [
    "# now lets  use some herestics and visuals to compare populations with this data set\n",
    "\n",
    "native_education = adults.groupby(by=['native','sex']).agg({'native':'count',\n",
    "                                                            'education_num':'mean',\n",
    "                                                            'hours_per_week':'mean'})\n",
    "\n"
   ]
  },
  {
   "cell_type": "code",
   "execution_count": 9,
   "metadata": {},
   "outputs": [
    {
     "data": {
      "image/png": "[encoded data removed]",
      "text/plain": [
       "<Figure size 720x576 with 1 Axes>"
      ]
     },
     "metadata": {
      "needs_background": "light"
     },
     "output_type": "display_data"
    }
   ],
   "source": [
    "# We can see there are some slight differences between populations when we do a naive aggregation like this\n",
    "\n",
    "box = adults.boxplot(column='education_num',by=['native','sex'], grid=False,figsize=[10,8])"
   ]
  },
  {
   "cell_type": "markdown",
   "metadata": {},
   "source": [
    "# Question Time\n",
    "\n",
    "Ok so based upon our simplistic visual analysis it appears that there might be a difference in the mean education level between males born in the United States vs foreign born females living in the United States.\n",
    "\n",
    "But lets take a another quick look at those samples\n"
   ]
  },
  {
   "cell_type": "code",
   "execution_count": 10,
   "metadata": {},
   "outputs": [
    {
     "data": {
      "text/html": [
       "<div>\n",
       "<style scoped>\n",
       "    .dataframe tbody tr th:only-of-type {\n",
       "        vertical-align: middle;\n",
       "    }\n",
       "\n",
       "    .dataframe tbody tr th {\n",
       "        vertical-align: top;\n",
       "    }\n",
       "\n",
       "    .dataframe thead th {\n",
       "        text-align: right;\n",
       "    }\n",
       "</style>\n",
       "<table border=\"1\" class=\"dataframe\">\n",
       "  <thead>\n",
       "    <tr style=\"text-align: right;\">\n",
       "      <th></th>\n",
       "      <th></th>\n",
       "      <th>native</th>\n",
       "      <th>education_num</th>\n",
       "      <th>hours_per_week</th>\n",
       "    </tr>\n",
       "    <tr>\n",
       "      <th>native</th>\n",
       "      <th>sex</th>\n",
       "      <th></th>\n",
       "      <th></th>\n",
       "      <th></th>\n",
       "    </tr>\n",
       "  </thead>\n",
       "  <tbody>\n",
       "    <tr>\n",
       "      <th rowspan=\"2\" valign=\"top\">Native</th>\n",
       "      <th>Female</th>\n",
       "      <td>9682</td>\n",
       "      <td>10.123941</td>\n",
       "      <td>36.326482</td>\n",
       "    </tr>\n",
       "    <tr>\n",
       "      <th>Male</th>\n",
       "      <td>19488</td>\n",
       "      <td>10.192067</td>\n",
       "      <td>42.495279</td>\n",
       "    </tr>\n",
       "    <tr>\n",
       "      <th rowspan=\"2\" valign=\"top\">Non-Native</th>\n",
       "      <th>Female</th>\n",
       "      <td>1089</td>\n",
       "      <td>9.251607</td>\n",
       "      <td>37.156107</td>\n",
       "    </tr>\n",
       "    <tr>\n",
       "      <th>Male</th>\n",
       "      <td>2302</td>\n",
       "      <td>9.347958</td>\n",
       "      <td>41.859253</td>\n",
       "    </tr>\n",
       "  </tbody>\n",
       "</table>\n",
       "</div>"
      ],
      "text/plain": [
       "                   native  education_num  hours_per_week\n",
       "native     sex                                          \n",
       "Native     Female    9682      10.123941       36.326482\n",
       "           Male     19488      10.192067       42.495279\n",
       "Non-Native Female    1089       9.251607       37.156107\n",
       "           Male      2302       9.347958       41.859253"
      ]
     },
     "execution_count": 10,
     "metadata": {},
     "output_type": "execute_result"
    }
   ],
   "source": [
    "native_education"
   ]
  },
  {
   "cell_type": "markdown",
   "metadata": {},
   "source": [
    "We can see that there is a pretty significant difference between the sample sizes of those two populations. So while the mean education level differs between both populations when we take a simple average, we can't be sure that this isn't due to natural variablity and the sample size of our observations.\n",
    "\n",
    "One statitical method we may be able to use to have more confidence that there is indeed a difference between these two populations is ***Student's T-Test***\n",
    "\n",
    "So our hypothosis test formulation might look something like this:\n",
    "\n",
    "## (Null Hypothesis) *H<sub>0</sub>*: The means of the samples are equal\n",
    "- ***US Born Male Mean Education ~= Foreign Born Female Mean Education***\n",
    "\n",
    "## (Alternative Hypothesis) *H<sub>1</sub>*: The means of the samples are unequal\n",
    "- ***US Born Male Mean Education != Foreign Born Female Mean Education***\n",
    "\n",
    "## We wish to conduct this test with a confidence interval (a.k.a Alpha $\\alpha$)\n",
    "- Translation: We want to make sure that there is 80% confidence that this test is statistically valid\n",
    "\n",
    "\n",
    "\n",
    "You can find more information about T-Tests and python procedures to implement them at the below link:\n",
    "\n",
    "[T-Test using Python and Numpy](https://towardsdatascience.com/inferential-statistics-series-t-test-using-numpy-2718f8f9bf2f)\n",
    "\n",
    "We should have approximately equal sample sizes for test, more about that is explained in the link below:\n",
    "\n",
    "[Unequal Sample Sizes](https://www.statisticshowto.com/unequal-sample-sizes/)\n"
   ]
  },
  {
   "cell_type": "code",
   "execution_count": 17,
   "metadata": {},
   "outputs": [],
   "source": [
    "us_male_education = np.array(adults.query('native==\"Native\" & sex==\"Male\"')['education_num'])\n",
    "\n",
    "#Taking a random sampling from our us_male_education array so its the same size as the female sample\n",
    "\n",
    "us_male_education = np.random.choice(us_male_education, 1089, replace=False)\n",
    "\n",
    "f_female_education = np.array(adults.query('native==\"Non-Native\" & sex==\"Female\"')['education_num'])\n",
    "\n",
    "education = pd.DataFrame({'male_education_level':us_male_education,'female_education_level':f_female_education})\n",
    "\n",
    "male = np.array(education['male_education_level'].dropna())\n",
    "female = np.array(education['male_education_level'].dropna())"
   ]
  },
  {
   "cell_type": "code",
   "execution_count": 18,
   "metadata": {},
   "outputs": [],
   "source": [
    "#our Independent T Test\n",
    "test = stats.ttest_ind(male,female)"
   ]
  },
  {
   "cell_type": "code",
   "execution_count": 19,
   "metadata": {},
   "outputs": [
    {
     "name": "stdout",
     "output_type": "stream",
     "text": [
      "Our t-statistic = 0.0\n",
      "Our p-value = 1.0\n"
     ]
    }
   ],
   "source": [
    "print(f\"Our t-statistic = {test.statistic}\") \n",
    "print(f\"Our p-value = {test.pvalue}\")"
   ]
  },
  {
   "cell_type": "markdown",
   "metadata": {},
   "source": [
    "# Interpreting the Results\n",
    "\n",
    "OK so we have two results here a t-statistic (sometimes called t-score) and p-value\n",
    "\n",
    "### T-statistic\n",
    "\n",
    "The t-statistic  is a ratio between the difference between two groups and the difference within the groups. The larger the t-statistic, the more difference there is between groups. The smaller the t score, the more similarity there is between groups. A t-statistic of 3 means that the groups are three times as different from each other as they are within each other. \n",
    "\n",
    "### P-Value\n",
    "\n",
    "A p-value is the probability that the results from your sample data occurred by chance. P-values are from 0% to 100%. They are usually written as a decimal. For example, a p value of 5% is 0.05. Low p-values are good; They indicate your data did not occur by chance. For example, a p-value of .01 means there is only a 1% probability that the results from an experiment happened by chance.\n",
    "\n",
    "\n",
    "## Hypothosis Test\n",
    "\n",
    "Since our p_value is < $\\alpha$\n",
    "\n",
    ".0000000000001386 < .05\n",
    "\n",
    "We wan reject the null-hypothesis"
   ]
  },
  {
   "cell_type": "markdown",
   "metadata": {},
   "source": [
    "# For next time\n",
    "\n",
    "OK so we introduced the ideas around hypothesis testing, and introduced a few statistical methods that may be used in hypothesis testing (predominately demostrating the t-test).\n",
    "\n",
    "For the next session we will be visualizing these numbers along with the tests in order for you to have a more intuitive understanding. Additionally we'll be looking at examples with other statistical methods to see what other questions we can awnser with hypothesis testing.\n",
    "\n",
    "![Hey Girl](https://i.pinimg.com/originals/1e/30/41/1e3041cbac01fb863fbd2edfc6ae9236.jpg)"
   ]
  }
 ],
 "metadata": {
  "kernelspec": {
   "display_name": "Python 3",
   "language": "python",
   "name": "python3"
  },
  "language_info": {
   "codemirror_mode": {
    "name": "ipython",
    "version": 3
   },
   "file_extension": ".py",
   "mimetype": "text/x-python",
   "name": "python",
   "nbconvert_exporter": "python",
   "pygments_lexer": "ipython3",
   "version": "3.7.6"
  }
 },
 "nbformat": 4,
 "nbformat_minor": 4
}
