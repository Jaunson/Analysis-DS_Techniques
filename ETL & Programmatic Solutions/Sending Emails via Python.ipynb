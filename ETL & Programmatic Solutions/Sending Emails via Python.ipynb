{
 "cells": [
  {
   "cell_type": "markdown",
   "metadata": {},
   "source": [
    "# Send simple email messages in Python\n",
    "Packages of note demonstrated here:\n",
    "- [smtplib](https://docs.python.org/3/library/smtplib.html)\n",
    "- [email](https://docs.python.org/3/library/email.examples.html)\n",
    "\n",
    "As part of most of most automation schemes, workflows, and modeling tasks it can often times be very useful to have some sort of alerting mechanism to alert you to the completion of functions/scripts.\n"
   ]
  },
  {
   "cell_type": "code",
   "execution_count": null,
   "metadata": {},
   "outputs": [],
   "source": [
    "import smtplib\n",
    "from email.message import EmailMessage\n",
    "\n",
    "# generate an instance of the EmailMessage class to draft an email\n",
    "msg = EmailMessage()    \n",
    "\n",
    "# add add content to the email - subject line, to, from, body\n",
    "msg['Subject'] = 'Email Subject line'\n",
    "msg['From'] = '<From Email>'\n",
    "msg['To'] = '<To Email>'\n",
    "msg.set_content(\"\"\"\n",
    "Hello - This is a plain text message!\n",
    "\"\"\")\n",
    "\n",
    "# Establish a connection to your SMTP relay\n",
    "s = smtplib.SMTP('<SMTP relay>')\n",
    "\n",
    "# Send off your message payload via the SMTP relay\n",
    "s.send_message(msg)\n",
    "\n",
    "# Close your connection to the SMTP relay\n",
    "s.quit()"
   ]
  },
  {
   "cell_type": "markdown",
   "metadata": {},
   "source": [
    "### Wow, cool thanks pal!\n",
    "Above is a short example of how to send a simple plain-text email. It can be very easily be turned into a function that accepts some output of another function and or a dataframe  then loop over and fire multiple emails.\n",
    "\n",
    "Working on training models and want to get alerts via email, Slack, MS Teams, SMS?\n",
    "- [knockknock](https://github.com/huggingface/knockknock)\n"
   ]
  }
 ],
 "metadata": {
  "kernelspec": {
   "display_name": "Python 3",
   "language": "python",
   "name": "python3"
  },
  "language_info": {
   "codemirror_mode": {
    "name": "ipython",
    "version": 3
   },
   "file_extension": ".py",
   "mimetype": "text/x-python",
   "name": "python",
   "nbconvert_exporter": "python",
   "pygments_lexer": "ipython3",
   "version": "3.7.3"
  }
 },
 "nbformat": 4,
 "nbformat_minor": 2
}
